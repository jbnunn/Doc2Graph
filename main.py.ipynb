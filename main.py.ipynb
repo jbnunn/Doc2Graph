{
 "cells": [
  {
   "cell_type": "code",
   "execution_count": 1,
   "metadata": {
    "collapsed": true,
    "deletable": true,
    "editable": true
   },
   "outputs": [],
   "source": [
    "import spacy\n",
    "nlp = spacy.load('en')"
   ]
  },
  {
   "cell_type": "code",
   "execution_count": 10,
   "metadata": {
    "collapsed": false
   },
   "outputs": [],
   "source": [
    "text = u\"Archduke Franz Ferdinand of Austria -- and wife Sophie Chotek -- were assassinated on June 28, 1914, in Sarajevo. This set off a chain reaction of events that resulted in the outbreak of the first World War.\"\n",
    "doc = nlp(text)"
   ]
  },
  {
   "cell_type": "code",
   "execution_count": 9,
   "metadata": {
    "collapsed": false
   },
   "outputs": [
    {
     "name": "stdout",
     "output_type": "stream",
     "text": [
      "(u'Archduke', u'PROPN')\n",
      "(u'Franz', u'PROPN')\n",
      "(u',', u'PUNCT')\n",
      "(u'Ferdinand', u'PROPN')\n",
      "(u'of', u'ADP')\n",
      "(u'Austria', u'PROPN')\n",
      "(u'--', u'PUNCT')\n",
      "(u'and', u'CONJ')\n",
      "(u'wife', u'NOUN')\n",
      "(u'Sophie', u'PROPN')\n",
      "(u'Chotek', u'PROPN')\n",
      "(u'--', u'PUNCT')\n",
      "(u'were', u'VERB')\n",
      "(u'assassinated', u'VERB')\n",
      "(u'on', u'ADP')\n",
      "(u'June', u'PROPN')\n",
      "(u'28', u'NUM')\n",
      "(u',', u'PUNCT')\n",
      "(u'1914', u'NUM')\n",
      "(u',', u'PUNCT')\n",
      "(u'in', u'ADP')\n",
      "(u'Sarajevo', u'PROPN')\n",
      "(u'.', u'PUNCT')\n",
      "(u'This', u'DET')\n",
      "(u'set', u'VERB')\n",
      "(u'off', u'PART')\n",
      "(u'a', u'DET')\n",
      "(u'chain', u'NOUN')\n",
      "(u'reaction', u'NOUN')\n",
      "(u'of', u'ADP')\n",
      "(u'events', u'NOUN')\n",
      "(u'that', u'ADJ')\n",
      "(u'resulted', u'VERB')\n",
      "(u'in', u'ADP')\n",
      "(u'the', u'DET')\n",
      "(u'outbreak', u'NOUN')\n",
      "(u'of', u'ADP')\n",
      "(u'the', u'DET')\n",
      "(u'first', u'ADJ')\n",
      "(u'World', u'PROPN')\n",
      "(u'War', u'PROPN')\n",
      "(u'.', u'PUNCT')\n"
     ]
    }
   ],
   "source": [
    "# POS Tagging\n",
    "for word in doc:\n",
    "    print(word.text, word.pos_)"
   ]
  },
  {
   "cell_type": "code",
   "execution_count": 27,
   "metadata": {
    "collapsed": false
   },
   "outputs": [
    {
     "name": "stdout",
     "output_type": "stream",
     "text": [
      "(u'Archduke', u'')\n",
      "(u'Franz', u'PERSON')\n",
      "(u'Ferdinand', u'PERSON')\n",
      "(u'of', u'')\n",
      "(u'Austria', u'')\n",
      "(u'--', u'')\n",
      "(u'and', u'')\n",
      "(u'wife', u'')\n",
      "(u'Sophie', u'PERSON')\n",
      "(u'Chotek', u'PERSON')\n",
      "(u'--', u'')\n",
      "(u'were', u'')\n",
      "(u'assassinated', u'')\n",
      "(u'on', u'')\n",
      "(u'June', u'DATE')\n",
      "(u'28', u'DATE')\n",
      "(u',', u'DATE')\n",
      "(u'1914', u'DATE')\n",
      "(u',', u'')\n",
      "(u'in', u'')\n",
      "(u'Sarajevo', u'GPE')\n",
      "(u'.', u'')\n",
      "(u'This', u'')\n",
      "(u'set', u'')\n",
      "(u'off', u'')\n",
      "(u'a', u'')\n",
      "(u'chain', u'')\n",
      "(u'reaction', u'')\n",
      "(u'of', u'')\n",
      "(u'events', u'')\n",
      "(u'that', u'')\n",
      "(u'resulted', u'')\n",
      "(u'in', u'')\n",
      "(u'the', u'')\n",
      "(u'outbreak', u'')\n",
      "(u'of', u'')\n",
      "(u'the', u'')\n",
      "(u'first', u'ORDINAL')\n",
      "(u'World', u'EVENT')\n",
      "(u'War', u'EVENT')\n",
      "(u'.', u'')\n"
     ]
    }
   ],
   "source": [
    "# Entity Extraction\n",
    "for word in doc:\n",
    "    print(word.text, word.ent_type_)"
   ]
  },
  {
   "cell_type": "code",
   "execution_count": 49,
   "metadata": {
    "collapsed": false
   },
   "outputs": [
    {
     "name": "stdout",
     "output_type": "stream",
     "text": [
      "[[u'Franz', u'Ferdinand'], [u'Sophie', u'Chotek']]\n"
     ]
    }
   ],
   "source": [
    "# Use entity extraction to get people from text\n",
    "'''\n",
    "Builds a node based on consecutive occurrences of entity tag \"PERSON\"\n",
    "'''\n",
    "def get_person_nodes(doc):\n",
    "    consecutive = False\n",
    "    people = []\n",
    "    person = []\n",
    "    \n",
    "    for word in doc:\n",
    "        if (word.ent_type_ == \"PERSON\"):\n",
    "            if not consecutive:\n",
    "                consecutive = True\n",
    "                \n",
    "            person.append(word.text)\n",
    "            \n",
    "        else:\n",
    "            consecutive = False\n",
    "            \n",
    "            if len(person) > 0:\n",
    "                people.append(person)\n",
    "            \n",
    "            person = []\n",
    "    \n",
    "    return people\n",
    "            \n",
    "print(get_person_nodes(doc))"
   ]
  },
  {
   "cell_type": "code",
   "execution_count": null,
   "metadata": {
    "collapsed": true
   },
   "outputs": [],
   "source": []
  }
 ],
 "metadata": {
  "kernelspec": {
   "display_name": "Python 2",
   "language": "python",
   "name": "python2"
  },
  "language_info": {
   "codemirror_mode": {
    "name": "ipython",
    "version": 2
   },
   "file_extension": ".py",
   "mimetype": "text/x-python",
   "name": "python",
   "nbconvert_exporter": "python",
   "pygments_lexer": "ipython2",
   "version": "2.7.13"
  }
 },
 "nbformat": 4,
 "nbformat_minor": 2
}
