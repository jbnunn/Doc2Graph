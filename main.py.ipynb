{
 "cells": [
  {
   "cell_type": "code",
   "execution_count": 1,
   "metadata": {
    "collapsed": true,
    "deletable": true,
    "editable": true
   },
   "outputs": [],
   "source": [
    "import spacy\n",
    "nlp = spacy.load('en')"
   ]
  },
  {
   "cell_type": "code",
   "execution_count": 3,
   "metadata": {
    "collapsed": false
   },
   "outputs": [],
   "source": [
    "text = u\"Archduke Franz Ferdinand of Austria -- and wife Sophie Chotek -- were assassinated on June 28, 1914, in Sarajevo. This set off a chain reaction of events that resulted in the outbreak of the first World War.\"\n",
    "doc = nlp(text)"
   ]
  },
  {
   "cell_type": "code",
   "execution_count": 4,
   "metadata": {
    "collapsed": false
   },
   "outputs": [
    {
     "name": "stdout",
     "output_type": "stream",
     "text": [
      "(u'Archduke', 197186, u'archduke', 441, u'NNP', 93, u'PROPN')\n",
      "(u'Franz', 197827, u'franz', 441, u'NNP', 93, u'PROPN')\n",
      "(u'Ferdinand', 197610, u'ferdinand', 441, u'NNP', 93, u'PROPN')\n",
      "(u'of', 471, u'of', 432, u'IN', 83, u'ADP')\n",
      "(u'Austria', 59826, u'austria', 441, u'NNP', 93, u'PROPN')\n",
      "(u'--', 1281, u'--', 420, u':', 94, u'PUNCT')\n",
      "(u'and', 470, u'and', 424, u'CC', 86, u'CONJ')\n",
      "(u'wife', 1285, u'wife', 440, u'NN', 89, u'NOUN')\n",
      "(u'Sophie', 162300, u'sophie', 441, u'NNP', 93, u'PROPN')\n",
      "(u'Chotek', 1510243, u'chotek', 441, u'NNP', 93, u'PROPN')\n",
      "(u'--', 1281, u'--', 420, u':', 94, u'PUNCT')\n",
      "(u'were', 488, u'be', 455, u'VBD', 97, u'VERB')\n",
      "(u'assassinated', 23869, u'assassinate', 457, u'VBN', 97, u'VERB')\n",
      "(u'on', 485, u'on', 432, u'IN', 83, u'ADP')\n",
      "(u'June', 30960, u'june', 441, u'NNP', 93, u'PROPN')\n",
      "(u'28', 4099, u'28', 425, u'CD', 90, u'NUM')\n",
      "(u',', 416, u',', 416, u',', 94, u'PUNCT')\n",
      "(u'1914', 38974, u'1914', 425, u'CD', 90, u'NUM')\n",
      "(u',', 416, u',', 416, u',', 94, u'PUNCT')\n",
      "(u'in', 477, u'in', 432, u'IN', 83, u'ADP')\n",
      "(u'Sarajevo', 552798, u'sarajevo', 441, u'NNP', 93, u'PROPN')\n",
      "(u'.', 419, u'.', 419, u'.', 94, u'PUNCT')\n",
      "(u'This', 496, u'this', 426, u'DT', 87, u'DET')\n",
      "(u'set', 836, u'set', 455, u'VBD', 97, u'VERB')\n",
      "(u'off', 609, u'off', 450, u'RP', 91, u'PART')\n",
      "(u'a', 469, u'a', 426, u'DT', 87, u'DET')\n",
      "(u'chain', 2978, u'chain', 440, u'NN', 89, u'NOUN')\n",
      "(u'reaction', 2219, u'reaction', 440, u'NN', 89, u'NOUN')\n",
      "(u'of', 471, u'of', 432, u'IN', 83, u'ADP')\n",
      "(u'events', 1763, u'event', 443, u'NNS', 89, u'NOUN')\n",
      "(u'that', 475, u'that', 460, u'WDT', 82, u'ADJ')\n",
      "(u'resulted', 1532, u'result', 455, u'VBD', 97, u'VERB')\n",
      "(u'in', 477, u'in', 432, u'IN', 83, u'ADP')\n",
      "(u'the', 466, u'the', 426, u'DT', 87, u'DET')\n",
      "(u'outbreak', 16738, u'outbreak', 440, u'NN', 89, u'NOUN')\n",
      "(u'of', 471, u'of', 432, u'IN', 83, u'ADP')\n",
      "(u'the', 466, u'the', 426, u'DT', 87, u'DET')\n",
      "(u'first', 605, u'first', 433, u'JJ', 82, u'ADJ')\n",
      "(u'World', 738, u'world', 441, u'NNP', 93, u'PROPN')\n",
      "(u'War', 1196, u'war', 441, u'NNP', 93, u'PROPN')\n",
      "(u'.', 419, u'.', 419, u'.', 94, u'PUNCT')\n"
     ]
    }
   ],
   "source": [
    "# POS Tagging\n",
    "for word in doc:\n",
    "    print(word.text, word.lemma, word.lemma_, word.tag, word.tag_, word.pos, word.pos_)"
   ]
  },
  {
   "cell_type": "code",
   "execution_count": 5,
   "metadata": {
    "collapsed": false
   },
   "outputs": [
    {
     "name": "stdout",
     "output_type": "stream",
     "text": [
      "(u'Archduke', 2, u'')\n",
      "(u'Franz', 3, u'PERSON')\n",
      "(u'Ferdinand', 1, u'PERSON')\n",
      "(u'of', 2, u'')\n",
      "(u'Austria', 2, u'')\n",
      "(u'--', 2, u'')\n",
      "(u'and', 2, u'')\n",
      "(u'wife', 2, u'')\n",
      "(u'Sophie', 3, u'PERSON')\n",
      "(u'Chotek', 1, u'PERSON')\n",
      "(u'--', 2, u'')\n",
      "(u'were', 2, u'')\n",
      "(u'assassinated', 2, u'')\n",
      "(u'on', 2, u'')\n",
      "(u'June', 3, u'DATE')\n",
      "(u'28', 1, u'DATE')\n",
      "(u',', 1, u'DATE')\n",
      "(u'1914', 1, u'DATE')\n",
      "(u',', 2, u'')\n",
      "(u'in', 2, u'')\n",
      "(u'Sarajevo', 3, u'GPE')\n",
      "(u'.', 2, u'')\n",
      "(u'This', 2, u'')\n",
      "(u'set', 2, u'')\n",
      "(u'off', 2, u'')\n",
      "(u'a', 2, u'')\n",
      "(u'chain', 2, u'')\n",
      "(u'reaction', 2, u'')\n",
      "(u'of', 2, u'')\n",
      "(u'events', 2, u'')\n",
      "(u'that', 2, u'')\n",
      "(u'resulted', 2, u'')\n",
      "(u'in', 2, u'')\n",
      "(u'the', 2, u'')\n",
      "(u'outbreak', 2, u'')\n",
      "(u'of', 2, u'')\n",
      "(u'the', 2, u'')\n",
      "(u'first', 3, u'ORDINAL')\n",
      "(u'World', 3, u'EVENT')\n",
      "(u'War', 1, u'EVENT')\n",
      "(u'.', 2, u'')\n"
     ]
    }
   ],
   "source": [
    "# Entity Extraction\n",
    "for word in doc:\n",
    "    print(word.text, word.ent_iob, word.ent_type_)"
   ]
  },
  {
   "cell_type": "code",
   "execution_count": null,
   "metadata": {
    "collapsed": true
   },
   "outputs": [],
   "source": []
  }
 ],
 "metadata": {
  "kernelspec": {
   "display_name": "Python 2",
   "language": "python",
   "name": "python2"
  },
  "language_info": {
   "codemirror_mode": {
    "name": "ipython",
    "version": 2
   },
   "file_extension": ".py",
   "mimetype": "text/x-python",
   "name": "python",
   "nbconvert_exporter": "python",
   "pygments_lexer": "ipython2",
   "version": "2.7.13"
  }
 },
 "nbformat": 4,
 "nbformat_minor": 2
}
